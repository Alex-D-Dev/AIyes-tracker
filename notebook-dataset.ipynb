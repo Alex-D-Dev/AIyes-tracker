{
 "cells": [
  {
   "cell_type": "code",
   "execution_count": 1,
   "metadata": {},
   "outputs": [],
   "source": [
    "import numpy as np\n",
    "import cv2\n",
    "import matplotlib.pyplot as plt\n",
    "import pandas as pd\n",
    "import seaborn as sns\n",
    "from sklearn.model_selection import train_test_split\n",
    "from sklearn.neighbors import KNeighborsClassifier\n",
    "#import joblib\n",
    "from numpy import mean\n",
    "from numpy import std\n",
    "from sklearn.datasets import make_regression\n",
    "from sklearn.model_selection import RepeatedKFold\n",
    "from keras.models import Sequential\n",
    "from keras.layers import Flatten, Input, concatenate\n",
    "from keras.layers.convolutional import Conv2D, MaxPooling2D\n",
    "from keras.layers.core import Activation, Dropout, Dense\n",
    "from keras.layers.normalization import BatchNormalization\n",
    "from keras.models import Model\n",
    "from keras.callbacks import EarlyStopping, ModelCheckpoint, ReduceLROnPlateau"
   ]
  },
  {
   "cell_type": "code",
   "execution_count": 2,
   "metadata": {},
   "outputs": [
    {
     "data": {
      "text/html": [
       "<div>\n",
       "<style scoped>\n",
       "    .dataframe tbody tr th:only-of-type {\n",
       "        vertical-align: middle;\n",
       "    }\n",
       "\n",
       "    .dataframe tbody tr th {\n",
       "        vertical-align: top;\n",
       "    }\n",
       "\n",
       "    .dataframe thead th {\n",
       "        text-align: right;\n",
       "    }\n",
       "</style>\n",
       "<table border=\"1\" class=\"dataframe\">\n",
       "  <thead>\n",
       "    <tr style=\"text-align: right;\">\n",
       "      <th></th>\n",
       "      <th>pixel_0_0</th>\n",
       "      <th>pixel_0_1</th>\n",
       "      <th>pixel_0_2</th>\n",
       "      <th>pixel_0_3</th>\n",
       "      <th>pixel_0_4</th>\n",
       "      <th>pixel_0_5</th>\n",
       "      <th>pixel_0_6</th>\n",
       "      <th>pixel_0_7</th>\n",
       "      <th>pixel_0_8</th>\n",
       "      <th>pixel_0_9</th>\n",
       "      <th>...</th>\n",
       "      <th>pixel_31_31</th>\n",
       "      <th>milieu_crop_x</th>\n",
       "      <th>milieu_crop_y</th>\n",
       "      <th>distance</th>\n",
       "      <th>milieu_oeil_x</th>\n",
       "      <th>milieu_oeil_y</th>\n",
       "      <th>taille_original</th>\n",
       "      <th>cote</th>\n",
       "      <th>prediction_x</th>\n",
       "      <th>prediction_y</th>\n",
       "    </tr>\n",
       "  </thead>\n",
       "  <tbody>\n",
       "    <tr>\n",
       "      <th>0</th>\n",
       "      <td>0.294118</td>\n",
       "      <td>0.282353</td>\n",
       "      <td>0.258824</td>\n",
       "      <td>0.239216</td>\n",
       "      <td>0.219608</td>\n",
       "      <td>0.211765</td>\n",
       "      <td>0.219608</td>\n",
       "      <td>0.211765</td>\n",
       "      <td>0.211765</td>\n",
       "      <td>0.231373</td>\n",
       "      <td>...</td>\n",
       "      <td>0.639216</td>\n",
       "      <td>0.492188</td>\n",
       "      <td>0.418750</td>\n",
       "      <td>0.501</td>\n",
       "      <td>0.431250</td>\n",
       "      <td>0.383333</td>\n",
       "      <td>42</td>\n",
       "      <td>0.0</td>\n",
       "      <td>0.050000</td>\n",
       "      <td>0.050000</td>\n",
       "    </tr>\n",
       "    <tr>\n",
       "      <th>1</th>\n",
       "      <td>0.674510</td>\n",
       "      <td>0.666667</td>\n",
       "      <td>0.658824</td>\n",
       "      <td>0.600000</td>\n",
       "      <td>0.529412</td>\n",
       "      <td>0.482353</td>\n",
       "      <td>0.458824</td>\n",
       "      <td>0.427451</td>\n",
       "      <td>0.411765</td>\n",
       "      <td>0.403922</td>\n",
       "      <td>...</td>\n",
       "      <td>0.721569</td>\n",
       "      <td>0.492188</td>\n",
       "      <td>0.418750</td>\n",
       "      <td>0.501</td>\n",
       "      <td>0.546875</td>\n",
       "      <td>0.383333</td>\n",
       "      <td>36</td>\n",
       "      <td>0.5</td>\n",
       "      <td>0.050000</td>\n",
       "      <td>0.050000</td>\n",
       "    </tr>\n",
       "    <tr>\n",
       "      <th>2</th>\n",
       "      <td>0.490196</td>\n",
       "      <td>0.490196</td>\n",
       "      <td>0.443137</td>\n",
       "      <td>0.368627</td>\n",
       "      <td>0.329412</td>\n",
       "      <td>0.317647</td>\n",
       "      <td>0.301961</td>\n",
       "      <td>0.286275</td>\n",
       "      <td>0.258824</td>\n",
       "      <td>0.231373</td>\n",
       "      <td>...</td>\n",
       "      <td>0.658824</td>\n",
       "      <td>0.495312</td>\n",
       "      <td>0.422917</td>\n",
       "      <td>0.501</td>\n",
       "      <td>0.437500</td>\n",
       "      <td>0.370833</td>\n",
       "      <td>40</td>\n",
       "      <td>0.0</td>\n",
       "      <td>0.050000</td>\n",
       "      <td>0.150000</td>\n",
       "    </tr>\n",
       "    <tr>\n",
       "      <th>3</th>\n",
       "      <td>0.650980</td>\n",
       "      <td>0.603922</td>\n",
       "      <td>0.505882</td>\n",
       "      <td>0.439216</td>\n",
       "      <td>0.423529</td>\n",
       "      <td>0.407843</td>\n",
       "      <td>0.392157</td>\n",
       "      <td>0.372549</td>\n",
       "      <td>0.376471</td>\n",
       "      <td>0.380392</td>\n",
       "      <td>...</td>\n",
       "      <td>0.725490</td>\n",
       "      <td>0.495312</td>\n",
       "      <td>0.422917</td>\n",
       "      <td>0.501</td>\n",
       "      <td>0.543750</td>\n",
       "      <td>0.383333</td>\n",
       "      <td>38</td>\n",
       "      <td>0.5</td>\n",
       "      <td>0.050000</td>\n",
       "      <td>0.150000</td>\n",
       "    </tr>\n",
       "    <tr>\n",
       "      <th>4</th>\n",
       "      <td>0.458824</td>\n",
       "      <td>0.443137</td>\n",
       "      <td>0.372549</td>\n",
       "      <td>0.317647</td>\n",
       "      <td>0.305882</td>\n",
       "      <td>0.294118</td>\n",
       "      <td>0.266667</td>\n",
       "      <td>0.247059</td>\n",
       "      <td>0.215686</td>\n",
       "      <td>0.207843</td>\n",
       "      <td>...</td>\n",
       "      <td>0.627451</td>\n",
       "      <td>0.503125</td>\n",
       "      <td>0.425000</td>\n",
       "      <td>0.515</td>\n",
       "      <td>0.448437</td>\n",
       "      <td>0.379167</td>\n",
       "      <td>40</td>\n",
       "      <td>0.0</td>\n",
       "      <td>0.150000</td>\n",
       "      <td>0.050000</td>\n",
       "    </tr>\n",
       "    <tr>\n",
       "      <th>...</th>\n",
       "      <td>...</td>\n",
       "      <td>...</td>\n",
       "      <td>...</td>\n",
       "      <td>...</td>\n",
       "      <td>...</td>\n",
       "      <td>...</td>\n",
       "      <td>...</td>\n",
       "      <td>...</td>\n",
       "      <td>...</td>\n",
       "      <td>...</td>\n",
       "      <td>...</td>\n",
       "      <td>...</td>\n",
       "      <td>...</td>\n",
       "      <td>...</td>\n",
       "      <td>...</td>\n",
       "      <td>...</td>\n",
       "      <td>...</td>\n",
       "      <td>...</td>\n",
       "      <td>...</td>\n",
       "      <td>...</td>\n",
       "      <td>...</td>\n",
       "    </tr>\n",
       "    <tr>\n",
       "      <th>1995</th>\n",
       "      <td>0.529412</td>\n",
       "      <td>0.560784</td>\n",
       "      <td>0.588235</td>\n",
       "      <td>0.611765</td>\n",
       "      <td>0.611765</td>\n",
       "      <td>0.600000</td>\n",
       "      <td>0.560784</td>\n",
       "      <td>0.525490</td>\n",
       "      <td>0.505882</td>\n",
       "      <td>0.501961</td>\n",
       "      <td>...</td>\n",
       "      <td>0.666667</td>\n",
       "      <td>0.495312</td>\n",
       "      <td>0.560417</td>\n",
       "      <td>0.462</td>\n",
       "      <td>0.553125</td>\n",
       "      <td>0.520833</td>\n",
       "      <td>40</td>\n",
       "      <td>0.5</td>\n",
       "      <td>0.063542</td>\n",
       "      <td>0.837037</td>\n",
       "    </tr>\n",
       "    <tr>\n",
       "      <th>1996</th>\n",
       "      <td>0.760784</td>\n",
       "      <td>0.733333</td>\n",
       "      <td>0.717647</td>\n",
       "      <td>0.733333</td>\n",
       "      <td>0.745098</td>\n",
       "      <td>0.745098</td>\n",
       "      <td>0.729412</td>\n",
       "      <td>0.701961</td>\n",
       "      <td>0.678431</td>\n",
       "      <td>0.647059</td>\n",
       "      <td>...</td>\n",
       "      <td>0.854902</td>\n",
       "      <td>0.479687</td>\n",
       "      <td>0.558333</td>\n",
       "      <td>0.469</td>\n",
       "      <td>0.410938</td>\n",
       "      <td>0.508333</td>\n",
       "      <td>48</td>\n",
       "      <td>0.0</td>\n",
       "      <td>0.761979</td>\n",
       "      <td>0.283333</td>\n",
       "    </tr>\n",
       "    <tr>\n",
       "      <th>1997</th>\n",
       "      <td>0.458824</td>\n",
       "      <td>0.490196</td>\n",
       "      <td>0.533333</td>\n",
       "      <td>0.560784</td>\n",
       "      <td>0.592157</td>\n",
       "      <td>0.611765</td>\n",
       "      <td>0.627451</td>\n",
       "      <td>0.627451</td>\n",
       "      <td>0.607843</td>\n",
       "      <td>0.584314</td>\n",
       "      <td>...</td>\n",
       "      <td>0.650980</td>\n",
       "      <td>0.479687</td>\n",
       "      <td>0.558333</td>\n",
       "      <td>0.469</td>\n",
       "      <td>0.535937</td>\n",
       "      <td>0.516667</td>\n",
       "      <td>43</td>\n",
       "      <td>0.5</td>\n",
       "      <td>0.761979</td>\n",
       "      <td>0.283333</td>\n",
       "    </tr>\n",
       "    <tr>\n",
       "      <th>1998</th>\n",
       "      <td>0.745098</td>\n",
       "      <td>0.756863</td>\n",
       "      <td>0.756863</td>\n",
       "      <td>0.737255</td>\n",
       "      <td>0.721569</td>\n",
       "      <td>0.705882</td>\n",
       "      <td>0.690196</td>\n",
       "      <td>0.662745</td>\n",
       "      <td>0.631373</td>\n",
       "      <td>0.603922</td>\n",
       "      <td>...</td>\n",
       "      <td>0.890196</td>\n",
       "      <td>0.454688</td>\n",
       "      <td>0.562500</td>\n",
       "      <td>0.467</td>\n",
       "      <td>0.392188</td>\n",
       "      <td>0.516667</td>\n",
       "      <td>46</td>\n",
       "      <td>0.0</td>\n",
       "      <td>0.953125</td>\n",
       "      <td>0.531481</td>\n",
       "    </tr>\n",
       "    <tr>\n",
       "      <th>1999</th>\n",
       "      <td>0.419608</td>\n",
       "      <td>0.486275</td>\n",
       "      <td>0.517647</td>\n",
       "      <td>0.513725</td>\n",
       "      <td>0.474510</td>\n",
       "      <td>0.435294</td>\n",
       "      <td>0.411765</td>\n",
       "      <td>0.400000</td>\n",
       "      <td>0.415686</td>\n",
       "      <td>0.427451</td>\n",
       "      <td>...</td>\n",
       "      <td>0.556863</td>\n",
       "      <td>0.454688</td>\n",
       "      <td>0.562500</td>\n",
       "      <td>0.467</td>\n",
       "      <td>0.514062</td>\n",
       "      <td>0.518750</td>\n",
       "      <td>42</td>\n",
       "      <td>0.5</td>\n",
       "      <td>0.953125</td>\n",
       "      <td>0.531481</td>\n",
       "    </tr>\n",
       "  </tbody>\n",
       "</table>\n",
       "<p>2000 rows × 1033 columns</p>\n",
       "</div>"
      ],
      "text/plain": [
       "      pixel_0_0  pixel_0_1  pixel_0_2  pixel_0_3  pixel_0_4  pixel_0_5  \\\n",
       "0      0.294118   0.282353   0.258824   0.239216   0.219608   0.211765   \n",
       "1      0.674510   0.666667   0.658824   0.600000   0.529412   0.482353   \n",
       "2      0.490196   0.490196   0.443137   0.368627   0.329412   0.317647   \n",
       "3      0.650980   0.603922   0.505882   0.439216   0.423529   0.407843   \n",
       "4      0.458824   0.443137   0.372549   0.317647   0.305882   0.294118   \n",
       "...         ...        ...        ...        ...        ...        ...   \n",
       "1995   0.529412   0.560784   0.588235   0.611765   0.611765   0.600000   \n",
       "1996   0.760784   0.733333   0.717647   0.733333   0.745098   0.745098   \n",
       "1997   0.458824   0.490196   0.533333   0.560784   0.592157   0.611765   \n",
       "1998   0.745098   0.756863   0.756863   0.737255   0.721569   0.705882   \n",
       "1999   0.419608   0.486275   0.517647   0.513725   0.474510   0.435294   \n",
       "\n",
       "      pixel_0_6  pixel_0_7  pixel_0_8  pixel_0_9  ...  pixel_31_31  \\\n",
       "0      0.219608   0.211765   0.211765   0.231373  ...     0.639216   \n",
       "1      0.458824   0.427451   0.411765   0.403922  ...     0.721569   \n",
       "2      0.301961   0.286275   0.258824   0.231373  ...     0.658824   \n",
       "3      0.392157   0.372549   0.376471   0.380392  ...     0.725490   \n",
       "4      0.266667   0.247059   0.215686   0.207843  ...     0.627451   \n",
       "...         ...        ...        ...        ...  ...          ...   \n",
       "1995   0.560784   0.525490   0.505882   0.501961  ...     0.666667   \n",
       "1996   0.729412   0.701961   0.678431   0.647059  ...     0.854902   \n",
       "1997   0.627451   0.627451   0.607843   0.584314  ...     0.650980   \n",
       "1998   0.690196   0.662745   0.631373   0.603922  ...     0.890196   \n",
       "1999   0.411765   0.400000   0.415686   0.427451  ...     0.556863   \n",
       "\n",
       "      milieu_crop_x  milieu_crop_y  distance  milieu_oeil_x  milieu_oeil_y  \\\n",
       "0          0.492188       0.418750     0.501       0.431250       0.383333   \n",
       "1          0.492188       0.418750     0.501       0.546875       0.383333   \n",
       "2          0.495312       0.422917     0.501       0.437500       0.370833   \n",
       "3          0.495312       0.422917     0.501       0.543750       0.383333   \n",
       "4          0.503125       0.425000     0.515       0.448437       0.379167   \n",
       "...             ...            ...       ...            ...            ...   \n",
       "1995       0.495312       0.560417     0.462       0.553125       0.520833   \n",
       "1996       0.479687       0.558333     0.469       0.410938       0.508333   \n",
       "1997       0.479687       0.558333     0.469       0.535937       0.516667   \n",
       "1998       0.454688       0.562500     0.467       0.392188       0.516667   \n",
       "1999       0.454688       0.562500     0.467       0.514062       0.518750   \n",
       "\n",
       "      taille_original  cote  prediction_x  prediction_y  \n",
       "0                  42   0.0      0.050000      0.050000  \n",
       "1                  36   0.5      0.050000      0.050000  \n",
       "2                  40   0.0      0.050000      0.150000  \n",
       "3                  38   0.5      0.050000      0.150000  \n",
       "4                  40   0.0      0.150000      0.050000  \n",
       "...               ...   ...           ...           ...  \n",
       "1995               40   0.5      0.063542      0.837037  \n",
       "1996               48   0.0      0.761979      0.283333  \n",
       "1997               43   0.5      0.761979      0.283333  \n",
       "1998               46   0.0      0.953125      0.531481  \n",
       "1999               42   0.5      0.953125      0.531481  \n",
       "\n",
       "[2000 rows x 1033 columns]"
      ]
     },
     "execution_count": 2,
     "metadata": {},
     "output_type": "execute_result"
    }
   ],
   "source": [
    "df = pd.read_csv('./eyes_data.csv')\n",
    "df['cote'] = df['cote'].map({'gauche' : 0, 'droit' : 1})\n",
    "df[df.columns[0:1024]] = df[df.columns[0:1024]]/255\n",
    "df = df.drop('id',1)\n",
    "\n",
    "df[df.columns[1024]] = df[df.columns[1024]]/640\n",
    "df[df.columns[1025]] = df[df.columns[1025]]/480\n",
    "df[df.columns[1027]] = df[df.columns[1027]]/640\n",
    "df[df.columns[1028]] = df[df.columns[1028]]/480\n",
    "df[df.columns[1030]] = df[df.columns[1030]]/2\n",
    "df[df.columns[1031]] = df[df.columns[1031]]/1920\n",
    "df[df.columns[1032]] = df[df.columns[1032]]/1080\n",
    "\n",
    "#df['prediction_x']= df['prediction_x'].astype(str)\n",
    "#df['prediction_y']= df['prediction_y'].astype(str)\n",
    "#df['prediction'] = df[['prediction_x', 'prediction_y']].agg('-'.join, axis=1)\n",
    "#df = df.drop('prediction_x',1)\n",
    "#df = df.drop('prediction_y',1)\n",
    "df"
   ]
  },
  {
   "cell_type": "code",
   "execution_count": 3,
   "metadata": {
    "scrolled": true
   },
   "outputs": [
    {
     "name": "stdout",
     "output_type": "stream",
     "text": [
      "(1600, 1031)\n",
      "(400, 1031)\n",
      "(1600, 2)\n",
      "(400, 2)\n",
      "(1600, 32, 32)\n",
      "(1600, 7)\n",
      "(400, 32, 32)\n",
      "(400, 7)\n"
     ]
    }
   ],
   "source": [
    "y = df.iloc[0:2000, 1031:1033]\n",
    "x = df.iloc[0:2000, 0:1031]\n",
    "x_train, x_val, y_train, y_val = train_test_split(x, y, test_size=0.2, random_state=1)\n",
    "\n",
    "x_train = x_train.to_numpy()\n",
    "x_val = x_val.to_numpy()\n",
    "y_train = y_train.to_numpy()\n",
    "y_val = y_val.to_numpy()\n",
    "\n",
    "X1_train = x_train[0:x_train.shape[0],0:1024]\n",
    "X2_train = x_train[0:x_train.shape[0],1024:1031]\n",
    "\n",
    "X1_val = x_val[0:x_val.shape[0],0:1024]\n",
    "X2_val = x_val[0:x_val.shape[0],1024:1031]\n",
    "\n",
    "\n",
    "X1_train = X1_train.reshape(1600,32,32)\n",
    "X1_val = X1_val.reshape(400,32,32)\n",
    "\n",
    "print(x_train.shape)\n",
    "print(x_val.shape)\n",
    "print(y_train.shape)\n",
    "print(y_val.shape)\n",
    "\n",
    "print(X1_train.shape)\n",
    "print(X2_train.shape)\n",
    "print(X1_val.shape)\n",
    "print(X2_val.shape)\n",
    "\n",
    "#print(X1_train[0])\n",
    "#print(X2_train[0])\n",
    "\n",
    "#print(X1_val[0])\n",
    "#print(X2_val[0])"
   ]
  },
  {
   "cell_type": "code",
   "execution_count": null,
   "metadata": {},
   "outputs": [],
   "source": [
    "earlyStopping = EarlyStopping(monitor='val_loss', patience=200, verbose=1, mode='min')\n",
    "mcp_save = ModelCheckpoint('checkpoint.hdf5', save_best_only=True, monitor='val_loss', mode='min',verbose=0)\n",
    "reduce_lr_loss = ReduceLROnPlateau(monitor='val_loss', factor=0.5, patience=50\n",
    "                                   , verbose=1, mode='min', min_lr =0.000001)\n",
    "\n",
    "# define two sets of inputs\n",
    "inputA = Input(shape=(32,32,1))\n",
    "inputB = Input(shape=(7,))\n",
    " \n",
    "# the first branch operates on the first input\n",
    "x = Conv2D(3,(3, 3), padding=\"same\")(inputA)\n",
    "x = Activation(\"relu\")(x)\n",
    "x = BatchNormalization(axis=1)(x)\n",
    "x = MaxPooling2D(pool_size=(2, 2))(x)\n",
    "\n",
    "x = Conv2D(3,(3, 3), padding=\"same\")(x)\n",
    "x = Activation(\"relu\")(x)\n",
    "x = BatchNormalization(axis=1)(x)\n",
    "x = MaxPooling2D(pool_size=(2, 2))(x)\n",
    "x = Conv2D(3,(3, 3), padding=\"same\")(x)\n",
    "x = Activation(\"relu\")(x)\n",
    "x = BatchNormalization(axis=1)(x)\n",
    "x = MaxPooling2D(pool_size=(2, 2))(x)\n",
    "x = Conv2D(3,(3, 3), padding=\"same\")(x)\n",
    "x = Activation(\"relu\")(x)\n",
    "x = BatchNormalization(axis=1)(x)\n",
    "x = MaxPooling2D(pool_size=(2, 2))(x)\n",
    "x = Conv2D(3,(3, 3), padding=\"same\")(x)\n",
    "x = Activation(\"relu\")(x)\n",
    "x = BatchNormalization(axis=1)(x)\n",
    "x = MaxPooling2D(pool_size=(2, 2))(x)\n",
    "\n",
    "out_x = Flatten()(x)\n",
    "print(out_x.shape)\n",
    "\n",
    "# the second branch opreates on the second input\n",
    "y = Dense(7, activation=\"relu\")(inputB)\n",
    "y = Dense(5, activation=\"relu\")(y)\n",
    "y = Dense(5, activation=\"relu\")(y)\n",
    "y = Dense(7, activation=\"relu\")(y)\n",
    "out_y = Flatten()(y)\n",
    "print(out_y.shape)\n",
    "\n",
    "# combine the output of the two branches\n",
    "combined = concatenate([out_x, out_y])\n",
    " \n",
    "# apply a FC layer and then a regression prediction on the\n",
    "# combined outputs\n",
    "z = Dense(10, activation=\"swish\")(combined)\n",
    "z = Dense(8, activation=\"swish\")(z)\n",
    "z = Dense(6, activation=\"swish\")(z)\n",
    "z = Dense(4, activation=\"swish\")(z)\n",
    "z = Dense(2, activation=\"swish\")(z)\n",
    " \n",
    "# our model will accept the inputs of the two branches and\n",
    "# then output a single value\n",
    "model = Model(inputs=[inputA, inputB], outputs=z)\n",
    "model.compile(loss=['mae'], optimizer='adam',metrics=['mse'])\n",
    "history = model.fit(x=[X1_train, X2_train], y=y_train, batch_size=128, epochs=2000,\n",
    "                    verbose=1, callbacks=[earlyStopping,mcp_save,reduce_lr_loss]\n",
    "                    , validation_data = ([X1_val,X2_val],y_val))"
   ]
  },
  {
   "cell_type": "code",
   "execution_count": 4,
   "metadata": {},
   "outputs": [
    {
     "name": "stdout",
     "output_type": "stream",
     "text": [
      "(1, 32, 32)\n",
      "(1, 7)\n",
      "[[0.21822242 0.04614801]]\n",
      "9.999264001846313\n",
      "0.009999264001846314\n"
     ]
    }
   ],
   "source": [
    "import time\n",
    "#test predict and inference time. Use timeit for more precise inference time\n",
    "df3 = df[df.columns[0:1024]]\n",
    "df3 = df3.loc[4]\n",
    "df3 = df3.to_numpy()\n",
    "df3 = df3.reshape(1,32,32)\n",
    "#df3 = np.expand_dims(df3, axis=-1)\n",
    "print(df3.shape)\n",
    "\n",
    "df4 = df[df.columns[1025:1032]]\n",
    "df4 = df4.loc[2]\n",
    "df4 = df4.to_numpy()\n",
    "df4 = df4.reshape(1, -1)\n",
    "print(df4.shape)\n",
    "\n",
    "from tensorflow.keras.models import load_model\n",
    "\n",
    "loaded_model = load_model('./my_eyes.h5', compile = False)\n",
    "start = time.time()\n",
    "a = 1000\n",
    "for i in range(0,a):\n",
    "    pred1 = loaded_model.predict_on_batch([df3,df4])\n",
    "print(pred1)\n",
    "end = time.time()\n",
    "print(end-start)\n",
    "print((end-start)/a)\n"
   ]
  },
  {
   "cell_type": "code",
   "execution_count": 14,
   "metadata": {},
   "outputs": [
    {
     "data": {
      "image/png": "[encoded data removed]",
      "text/plain": [
       "<Figure size 432x288 with 1 Axes>"
      ]
     },
     "metadata": {
      "needs_background": "light"
     },
     "output_type": "display_data"
    }
   ],
   "source": [
    "plt.plot(history.history['loss'])\n",
    "plt.plot(history.history['val_loss'])\n",
    "plt.title('model loss')\n",
    "plt.ylabel('loss')\n",
    "plt.xlabel('epoch')\n",
    "plt.legend(['train', 'test'], loc='upper left')\n",
    "plt.show()"
   ]
  },
  {
   "cell_type": "code",
   "execution_count": 15,
   "metadata": {},
   "outputs": [
    {
     "data": {
      "image/png": "[encoded data removed]",
      "text/plain": [
       "<Figure size 432x288 with 1 Axes>"
      ]
     },
     "metadata": {
      "needs_background": "light"
     },
     "output_type": "display_data"
    }
   ],
   "source": [
    "plt.plot(history.history['mse'])\n",
    "plt.plot(history.history['val_mse'])\n",
    "plt.title('model mse')\n",
    "plt.ylabel('mse')\n",
    "plt.xlabel('epoch')\n",
    "plt.legend(['train', 'test'], loc='upper left')\n",
    "plt.show()"
   ]
  },
  {
   "cell_type": "code",
   "execution_count": null,
   "metadata": {},
   "outputs": [],
   "source": [
    "model.save('my_eyes.h5')"
   ]
  },
  {
   "cell_type": "code",
   "execution_count": 5,
   "metadata": {},
   "outputs": [
    {
     "name": "stdout",
     "output_type": "stream",
     "text": [
      "pixel_0_0      0.459033\n",
      "pixel_0_1      0.452843\n",
      "pixel_0_2      0.443490\n",
      "pixel_0_3      0.432275\n",
      "pixel_0_4      0.420069\n",
      "                 ...   \n",
      "pixel_31_27    0.740825\n",
      "pixel_31_28    0.739314\n",
      "pixel_31_29    0.736451\n",
      "pixel_31_30    0.732620\n",
      "pixel_31_31    0.727633\n",
      "Length: 1024, dtype: float64\n",
      "<class 'pandas.core.frame.DataFrame'>\n"
     ]
    },
    {
     "data": {
      "text/plain": [
       "<matplotlib.image.AxesImage at 0x216bb433048>"
      ]
     },
     "execution_count": 5,
     "metadata": {},
     "output_type": "execute_result"
    },
    {
     "data": {
      "image/png": "[encoded data removed]",
      "text/plain": [
       "<Figure size 432x288 with 1 Axes>"
      ]
     },
     "metadata": {
      "needs_background": "light"
     },
     "output_type": "display_data"
    }
   ],
   "source": [
    "df2 = df[df.columns[0:1024]]\n",
    "print(df2.mean())\n",
    "print(type(df2))\n",
    "df2 = df2.mean()\n",
    "df2 = df2.to_numpy()\n",
    "df2 = df2.reshape(32,32)\n",
    "plt.imshow(df2)"
   ]
  },
  {
   "cell_type": "code",
   "execution_count": 6,
   "metadata": {},
   "outputs": [
    {
     "data": {
      "text/plain": [
       "<matplotlib.image.AxesImage at 0x216bc5a6088>"
      ]
     },
     "execution_count": 6,
     "metadata": {},
     "output_type": "execute_result"
    },
    {
     "data": {
      "image/png": "[encoded data removed]",
      "text/plain": [
       "<Figure size 432x288 with 1 Axes>"
      ]
     },
     "metadata": {
      "needs_background": "light"
     },
     "output_type": "display_data"
    }
   ],
   "source": [
    "df3 = df[df.columns[0:1024]]\n",
    "df3 = df3.loc[1]\n",
    "df3 = df3.to_numpy()\n",
    "df3 = df3.reshape(32,32)\n",
    "plt.imshow(df3)"
   ]
  },
  {
   "cell_type": "code",
   "execution_count": 7,
   "metadata": {},
   "outputs": [],
   "source": [
    "toplot = df.iloc[0:2000, 1029]\n",
    "toplot2 = toplot.iloc[::2]\n",
    "toplot1 = toplot[toplot.index % 2 != 0]"
   ]
  },
  {
   "cell_type": "code",
   "execution_count": 8,
   "metadata": {},
   "outputs": [
    {
     "name": "stderr",
     "output_type": "stream",
     "text": [
      "D:\\Programmes\\Anaconda\\envs\\My-project\\lib\\site-packages\\seaborn\\_decorators.py:43: FutureWarning: Pass the following variable as a keyword arg: x. From version 0.12, the only valid positional argument will be `data`, and passing other arguments without an explicit keyword will result in an error or misinterpretation.\n",
      "  FutureWarning\n"
     ]
    },
    {
     "data": {
      "text/plain": [
       "<AxesSubplot:xlabel='taille_original', ylabel='count'>"
      ]
     },
     "execution_count": 8,
     "metadata": {},
     "output_type": "execute_result"
    },
    {
     "data": {
      "image/png": "[encoded data removed]",
      "text/plain": [
       "<Figure size 432x288 with 1 Axes>"
      ]
     },
     "metadata": {
      "needs_background": "light"
     },
     "output_type": "display_data"
    }
   ],
   "source": [
    "sns.countplot(toplot1, x = 'Category')"
   ]
  },
  {
   "cell_type": "code",
   "execution_count": 9,
   "metadata": {},
   "outputs": [
    {
     "name": "stderr",
     "output_type": "stream",
     "text": [
      "D:\\Programmes\\Anaconda\\envs\\My-project\\lib\\site-packages\\seaborn\\_decorators.py:43: FutureWarning: Pass the following variable as a keyword arg: x. From version 0.12, the only valid positional argument will be `data`, and passing other arguments without an explicit keyword will result in an error or misinterpretation.\n",
      "  FutureWarning\n"
     ]
    },
    {
     "data": {
      "text/plain": [
       "<AxesSubplot:xlabel='taille_original', ylabel='count'>"
      ]
     },
     "execution_count": 9,
     "metadata": {},
     "output_type": "execute_result"
    },
    {
     "data": {
      "image/png": "[encoded data removed]",
      "text/plain": [
       "<Figure size 432x288 with 1 Axes>"
      ]
     },
     "metadata": {
      "needs_background": "light"
     },
     "output_type": "display_data"
    }
   ],
   "source": [
    "sns.countplot(toplot2, x = 'Category')"
   ]
  },
  {
   "cell_type": "code",
   "execution_count": 10,
   "metadata": {},
   "outputs": [
    {
     "name": "stderr",
     "output_type": "stream",
     "text": [
      "D:\\Programmes\\Anaconda\\envs\\My-project\\lib\\site-packages\\seaborn\\distributions.py:2557: FutureWarning: `distplot` is a deprecated function and will be removed in a future version. Please adapt your code to use either `displot` (a figure-level function with similar flexibility) or `histplot` (an axes-level function for histograms).\n",
      "  warnings.warn(msg, FutureWarning)\n",
      "D:\\Programmes\\Anaconda\\envs\\My-project\\lib\\site-packages\\seaborn\\distributions.py:2557: FutureWarning: `distplot` is a deprecated function and will be removed in a future version. Please adapt your code to use either `displot` (a figure-level function with similar flexibility) or `histplot` (an axes-level function for histograms).\n",
      "  warnings.warn(msg, FutureWarning)\n"
     ]
    },
    {
     "data": {
      "text/plain": [
       "<AxesSubplot:xlabel='taille_original', ylabel='Density'>"
      ]
     },
     "execution_count": 10,
     "metadata": {},
     "output_type": "execute_result"
    },
    {
     "data": {
      "image/png": "[encoded data removed]",
      "text/plain": [
       "<Figure size 432x288 with 1 Axes>"
      ]
     },
     "metadata": {
      "needs_background": "light"
     },
     "output_type": "display_data"
    }
   ],
   "source": [
    "sns.distplot(toplot1)\n",
    "sns.distplot(toplot2)"
   ]
  },
  {
   "cell_type": "code",
   "execution_count": 11,
   "metadata": {},
   "outputs": [
    {
     "name": "stderr",
     "output_type": "stream",
     "text": [
      "D:\\Programmes\\Anaconda\\envs\\My-project\\lib\\site-packages\\seaborn\\_decorators.py:43: FutureWarning: Pass the following variable as a keyword arg: x. From version 0.12, the only valid positional argument will be `data`, and passing other arguments without an explicit keyword will result in an error or misinterpretation.\n",
      "  FutureWarning\n"
     ]
    },
    {
     "data": {
      "text/plain": [
       "<AxesSubplot:xlabel='distance', ylabel='count'>"
      ]
     },
     "execution_count": 11,
     "metadata": {},
     "output_type": "execute_result"
    },
    {
     "data": {
      "image/png": "[encoded data removed]",
      "text/plain": [
       "<Figure size 432x288 with 1 Axes>"
      ]
     },
     "metadata": {
      "needs_background": "light"
     },
     "output_type": "display_data"
    }
   ],
   "source": [
    "toplot = df.iloc[0:2000, 1026]\n",
    "sns.countplot(toplot, x = 'Category')"
   ]
  },
  {
   "cell_type": "code",
   "execution_count": 12,
   "metadata": {},
   "outputs": [
    {
     "name": "stderr",
     "output_type": "stream",
     "text": [
      "D:\\Programmes\\Anaconda\\envs\\My-project\\lib\\site-packages\\seaborn\\distributions.py:2557: FutureWarning: `distplot` is a deprecated function and will be removed in a future version. Please adapt your code to use either `displot` (a figure-level function with similar flexibility) or `histplot` (an axes-level function for histograms).\n",
      "  warnings.warn(msg, FutureWarning)\n"
     ]
    },
    {
     "data": {
      "text/plain": [
       "<AxesSubplot:xlabel='distance', ylabel='Density'>"
      ]
     },
     "execution_count": 12,
     "metadata": {},
     "output_type": "execute_result"
    },
    {
     "data": {
      "image/png": "[encoded data removed]",
      "text/plain": [
       "<Figure size 432x288 with 1 Axes>"
      ]
     },
     "metadata": {
      "needs_background": "light"
     },
     "output_type": "display_data"
    }
   ],
   "source": [
    "sns.distplot(toplot)"
   ]
  }
 ],
 "metadata": {
  "kernelspec": {
   "display_name": "Python 3",
   "language": "python",
   "name": "python3"
  },
  "language_info": {
   "codemirror_mode": {
    "name": "ipython",
    "version": 3
   },
   "file_extension": ".py",
   "mimetype": "text/x-python",
   "name": "python",
   "nbconvert_exporter": "python",
   "pygments_lexer": "ipython3",
   "version": "3.7.10"
  }
 },
 "nbformat": 4,
 "nbformat_minor": 2
}
